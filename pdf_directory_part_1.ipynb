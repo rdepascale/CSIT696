{
 "cells": [
  {
   "cell_type": "code",
   "execution_count": 1,
   "metadata": {},
   "outputs": [],
   "source": [
    "import pdftotext\n",
    "import nltk\n",
    "from nltk.corpus import stopwords\n",
    "import pandas as pd\n",
    "from pathlib import Path"
   ]
  },
  {
   "cell_type": "markdown",
   "metadata": {},
   "source": [
    "***\n",
    "***\n",
    "## Process a directory of PDF"
   ]
  },
  {
   "cell_type": "code",
   "execution_count": 2,
   "metadata": {},
   "outputs": [
    {
     "data": {
      "text/plain": [
       "[PosixPath('test_pdf/MedvedevaEtAl2019.pdf'),\n",
       " PosixPath('test_pdf/KDD97-003.pdf'),\n",
       " PosixPath('test_pdf/P99-1001.pdf'),\n",
       " PosixPath('test_pdf/10.1007978-3-319-67056-018.pdf'),\n",
       " PosixPath('test_pdf/dummy_test.pdf')]"
      ]
     },
     "execution_count": 2,
     "metadata": {},
     "output_type": "execute_result"
    }
   ],
   "source": [
    "# adjust directory to point to location of files\n",
    "directory = 'test_pdf/'\n",
    "\n",
    "# create file list of pdf in directory\n",
    "pdf_folder = Path(directory).rglob('*.pdf')\n",
    "\n",
    "# create list of files and verify contents\n",
    "# should be 5 if using supplied 'test_pdf' directory\n",
    "files = [file for file in pdf_folder]\n",
    "files"
   ]
  },
  {
   "cell_type": "markdown",
   "metadata": {},
   "source": [
    "## Iterate through each file and\n",
    "* Tokenize file text\n",
    "* Create consistent case `.lower()` for each token\n",
    "* Remove tokens from `nltk` library `english` stopwords\n",
    "* Remove non-`.isalpha()` tokens"
   ]
  },
  {
   "cell_type": "code",
   "execution_count": 3,
   "metadata": {},
   "outputs": [],
   "source": [
    "tokens = []\n",
    "stopWords = set(stopwords.words('english'))\n",
    "\n",
    "# iterate every file in directory\n",
    "for file in files:\n",
    "    # open file\n",
    "    with open(file, 'rb') as f:\n",
    "        # conversion with pdftotext\n",
    "        multi_pdf = pdftotext.PDF(f)\n",
    "        # place current pdf text into list of tokens\n",
    "        tokens += nltk.word_tokenize(''.join(multi_pdf))\n",
    "\n",
    "# update tokens by setting all to lowercase,\n",
    "# removing stopwords,\n",
    "# removing non-alphanumeric\n",
    "tokens_removed = [word.lower() for word in tokens\n",
    "                  if word.lower() not in stopWords\n",
    "                  and word.isalpha()]"
   ]
  },
  {
   "cell_type": "markdown",
   "metadata": {},
   "source": [
    "## verify removal of stopwords by displaying initial `token` lenght, `tokens_removed` length and difference of values"
   ]
  },
  {
   "cell_type": "code",
   "execution_count": 4,
   "metadata": {},
   "outputs": [
    {
     "data": {
      "text/plain": [
       "(45703, 20387, 25316)"
      ]
     },
     "execution_count": 4,
     "metadata": {},
     "output_type": "execute_result"
    }
   ],
   "source": [
    "len(tokens), len(tokens_removed), len(tokens)-len(tokens_removed)"
   ]
  },
  {
   "cell_type": "markdown",
   "metadata": {},
   "source": [
    "***\n",
    "***\n",
    "## user directed word search\n",
    "* alter `words` list to include desired search terms as list of type string"
   ]
  },
  {
   "cell_type": "code",
   "execution_count": null,
   "metadata": {},
   "outputs": [],
   "source": [
    "# initialize user summary list\n",
    "words = [\"\"]\n",
    "word_summary = []\n",
    "# create list with sublist [word, count]\n",
    "for word in range(len(words)):\n",
    "    word_summary.append([words[word], nltk.Text(tokens).count(words[word])])"
   ]
  },
  {
   "cell_type": "markdown",
   "metadata": {},
   "source": [
    "## user specifies 5 words\n",
    "* utilizes `pandas` library to create dataframe of `word` and `count` as well as simple bar graph"
   ]
  },
  {
   "cell_type": "code",
   "execution_count": null,
   "metadata": {},
   "outputs": [],
   "source": [
    "df_multi = pd.DataFrame(word_summary, columns = [\"word\", \"count\"])\n",
    "df_multi"
   ]
  },
  {
   "cell_type": "code",
   "execution_count": null,
   "metadata": {},
   "outputs": [],
   "source": [
    "df_multi.plot.bar(x='word', y='count')"
   ]
  },
  {
   "cell_type": "markdown",
   "metadata": {},
   "source": [
    "***\n",
    "***"
   ]
  },
  {
   "cell_type": "markdown",
   "metadata": {},
   "source": [
    "## NLTK provides top 5\n",
    "* This allows the data to drive further work by looking solely at the top N words in the files processed.\n",
    "* By default the tokens are cleaned by removing `tokens` in the `nltk` library `stopwords` English list, as well as punctuation and non-alphanumeric `tokens` from the `string` methods.\n",
    "* `nltk` directed search allows the opportunity for supervised follow-up utilizing inference from `tokens` provided and additional user input to narrow in on \"hits\" in the dataset.\n",
    "* Since `most_common()` method provides all entries it can be indexed as a traditional list to look anywhere in the list if desired.\n",
    " * Alternately `most_common(n)` can be used where `n` is the number of words to search for if concerned about slowdown via processing too many tokens."
   ]
  },
  {
   "cell_type": "markdown",
   "metadata": {},
   "source": [
    "### create a frequencity distribution based off of the cleaned tokens"
   ]
  },
  {
   "cell_type": "code",
   "execution_count": 5,
   "metadata": {},
   "outputs": [],
   "source": [
    "fd = nltk.FreqDist(tokens_removed)"
   ]
  },
  {
   "cell_type": "markdown",
   "metadata": {},
   "source": [
    "### `most_common(n)` provides a list of `n` length with sublist `[word, count]`\n",
    "### create a dataframe utilizing the 5 most common words in the cleaned token list"
   ]
  },
  {
   "cell_type": "code",
   "execution_count": 6,
   "metadata": {},
   "outputs": [],
   "source": [
    "n = 10"
   ]
  },
  {
   "cell_type": "code",
   "execution_count": 7,
   "metadata": {},
   "outputs": [
    {
     "data": {
      "text/html": [
       "<div>\n",
       "<style scoped>\n",
       "    .dataframe tbody tr th:only-of-type {\n",
       "        vertical-align: middle;\n",
       "    }\n",
       "\n",
       "    .dataframe tbody tr th {\n",
       "        vertical-align: top;\n",
       "    }\n",
       "\n",
       "    .dataframe thead th {\n",
       "        text-align: right;\n",
       "    }\n",
       "</style>\n",
       "<table border=\"1\" class=\"dataframe\">\n",
       "  <thead>\n",
       "    <tr style=\"text-align: right;\">\n",
       "      <th></th>\n",
       "      <th>word</th>\n",
       "      <th>count</th>\n",
       "    </tr>\n",
       "  </thead>\n",
       "  <tbody>\n",
       "    <tr>\n",
       "      <th>0</th>\n",
       "      <td>text</td>\n",
       "      <td>255</td>\n",
       "    </tr>\n",
       "    <tr>\n",
       "      <th>1</th>\n",
       "      <td>data</td>\n",
       "      <td>238</td>\n",
       "    </tr>\n",
       "    <tr>\n",
       "      <th>2</th>\n",
       "      <td>mining</td>\n",
       "      <td>195</td>\n",
       "    </tr>\n",
       "    <tr>\n",
       "      <th>3</th>\n",
       "      <td>information</td>\n",
       "      <td>153</td>\n",
       "    </tr>\n",
       "    <tr>\n",
       "      <th>4</th>\n",
       "      <td>cases</td>\n",
       "      <td>150</td>\n",
       "    </tr>\n",
       "    <tr>\n",
       "      <th>5</th>\n",
       "      <td>articles</td>\n",
       "      <td>124</td>\n",
       "    </tr>\n",
       "    <tr>\n",
       "      <th>6</th>\n",
       "      <td>learning</td>\n",
       "      <td>111</td>\n",
       "    </tr>\n",
       "    <tr>\n",
       "      <th>7</th>\n",
       "      <td>results</td>\n",
       "      <td>111</td>\n",
       "    </tr>\n",
       "    <tr>\n",
       "      <th>8</th>\n",
       "      <td>case</td>\n",
       "      <td>110</td>\n",
       "    </tr>\n",
       "    <tr>\n",
       "      <th>9</th>\n",
       "      <td>used</td>\n",
       "      <td>108</td>\n",
       "    </tr>\n",
       "  </tbody>\n",
       "</table>\n",
       "</div>"
      ],
      "text/plain": [
       "          word  count\n",
       "0         text    255\n",
       "1         data    238\n",
       "2       mining    195\n",
       "3  information    153\n",
       "4        cases    150\n",
       "5     articles    124\n",
       "6     learning    111\n",
       "7      results    111\n",
       "8         case    110\n",
       "9         used    108"
      ]
     },
     "execution_count": 7,
     "metadata": {},
     "output_type": "execute_result"
    }
   ],
   "source": [
    "data = fd.most_common()\n",
    "df_fd = pd.DataFrame(data[:n], columns = [\"word\", \"count\"])\n",
    "df_fd"
   ]
  },
  {
   "cell_type": "markdown",
   "metadata": {},
   "source": [
    "### create a simple bar graph of top `n` words vs count"
   ]
  },
  {
   "cell_type": "code",
   "execution_count": 8,
   "metadata": {},
   "outputs": [
    {
     "data": {
      "text/plain": [
       "<AxesSubplot:xlabel='word'>"
      ]
     },
     "execution_count": 8,
     "metadata": {},
     "output_type": "execute_result"
    },
    {
     "data": {
      "image/png": "[encoded data removed]",
      "text/plain": [
       "<Figure size 432x288 with 1 Axes>"
      ]
     },
     "metadata": {
      "needs_background": "light"
     },
     "output_type": "display_data"
    }
   ],
   "source": [
    "df_fd.plot.bar(x='word', y='count')"
   ]
  },
  {
   "cell_type": "code",
   "execution_count": null,
   "metadata": {},
   "outputs": [],
   "source": []
  }
 ],
 "metadata": {
  "kernelspec": {
   "display_name": "Python 3",
   "language": "python",
   "name": "python3"
  },
  "language_info": {
   "codemirror_mode": {
    "name": "ipython",
    "version": 3
   },
   "file_extension": ".py",
   "mimetype": "text/x-python",
   "name": "python",
   "nbconvert_exporter": "python",
   "pygments_lexer": "ipython3",
   "version": "3.8.5"
  }
 },
 "nbformat": 4,
 "nbformat_minor": 4
}
