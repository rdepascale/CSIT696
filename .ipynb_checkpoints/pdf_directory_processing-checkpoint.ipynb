{
 "cells": [
  {
   "cell_type": "code",
   "execution_count": 1,
   "metadata": {},
   "outputs": [],
   "source": [
    "import pdftotext\n",
    "import nltk\n",
    "from nltk.corpus import stopwords\n",
    "from sklearn.feature_extraction.text import TfidfVectorizer\n",
    "import pandas as pd\n",
    "from pathlib import Path"
   ]
  },
  {
   "cell_type": "markdown",
   "metadata": {},
   "source": [
    "***\n",
    "***\n",
    "## Process a directory of PDF"
   ]
  },
  {
   "cell_type": "code",
   "execution_count": 2,
   "metadata": {},
   "outputs": [
    {
     "data": {
      "text/plain": [
       "[PosixPath('test_pdf/MedvedevaEtAl2019.pdf'),\n",
       " PosixPath('test_pdf/KDD97-003.pdf'),\n",
       " PosixPath('test_pdf/P99-1001.pdf'),\n",
       " PosixPath('test_pdf/10.1007978-3-319-67056-018.pdf'),\n",
       " PosixPath('test_pdf/dummy_test.pdf')]"
      ]
     },
     "execution_count": 2,
     "metadata": {},
     "output_type": "execute_result"
    }
   ],
   "source": [
    "# adjust directory to point to location of files\n",
    "directory = 'test_pdf/'\n",
    "\n",
    "# create file list of pdf in directory\n",
    "pdf_folder = Path(directory).rglob('*.pdf')\n",
    "\n",
    "# create list of files and verify contents\n",
    "# should be 5 if using supplied 'test_pdf' directory\n",
    "files = [file for file in pdf_folder]\n",
    "files"
   ]
  },
  {
   "cell_type": "markdown",
   "metadata": {},
   "source": [
    "## Iterate through each file and\n",
    "* Tokenize file text\n",
    "* Create consistent case `.lower()` for each token\n",
    "* Remove tokens from `nltk` library `english` stopwords\n",
    "* Remove non-`.isalpha()` tokens"
   ]
  },
  {
   "cell_type": "code",
   "execution_count": 3,
   "metadata": {},
   "outputs": [],
   "source": [
    "tokens = []\n",
    "multi_corpus = []\n",
    "stopWords = set(stopwords.words('english'))\n",
    "\n",
    "# iterate every file in directory\n",
    "for file in files:\n",
    "    # open file\n",
    "    with open(file, 'rb') as f:\n",
    "        # conversion with pdftotext\n",
    "        multi_pdf = pdftotext.PDF(f)\n",
    "        multi_corpus.append(''.join(multi_pdf))\n",
    "        # place current pdf text into list of tokens\n",
    "        tokens += nltk.word_tokenize(''.join(multi_pdf))\n",
    "        #corpus.append(tokens)\n",
    "\n",
    "# update tokens by setting all to lowercase,\n",
    "# removing stopwords,\n",
    "# removing non-alphanumeric\n",
    "tokens_removed = [word.lower() for word in tokens\n",
    "                  if word.lower() not in stopWords\n",
    "                  and word.isalpha()]"
   ]
  },
  {
   "cell_type": "markdown",
   "metadata": {},
   "source": [
    "## verify removal of stopwords by displaying initial `token` lenght, `tokens_removed` length and difference of values"
   ]
  },
  {
   "cell_type": "code",
   "execution_count": 4,
   "metadata": {},
   "outputs": [
    {
     "data": {
      "text/plain": [
       "(45703, 20387, 25316)"
      ]
     },
     "execution_count": 4,
     "metadata": {},
     "output_type": "execute_result"
    }
   ],
   "source": [
    "len(tokens), len(tokens_removed), len(tokens)-len(tokens_removed)"
   ]
  },
  {
   "cell_type": "markdown",
   "metadata": {},
   "source": [
    "***\n",
    "***\n",
    "## user directed word search\n",
    "* alter `words` list to include desired search terms as list of type string"
   ]
  },
  {
   "cell_type": "code",
   "execution_count": null,
   "metadata": {},
   "outputs": [],
   "source": [
    "# initialize user summary list\n",
    "words = [\"\"]\n",
    "word_summary = []\n",
    "# create list with sublist [word, count]\n",
    "for word in range(len(words)):\n",
    "    word_summary.append([words[word], nltk.Text(tokens).count(words[word])])"
   ]
  },
  {
   "cell_type": "markdown",
   "metadata": {},
   "source": [
    "## user specifies 5 words\n",
    "* utilizes `pandas` library to create dataframe of `word` and `count` as well as simple bar graph"
   ]
  },
  {
   "cell_type": "code",
   "execution_count": null,
   "metadata": {},
   "outputs": [],
   "source": [
    "df_multi = pd.DataFrame(word_summary, columns = [\"word\", \"count\"])\n",
    "df_multi"
   ]
  },
  {
   "cell_type": "code",
   "execution_count": null,
   "metadata": {},
   "outputs": [],
   "source": [
    "df_multi.plot.bar(x='word', y='count')"
   ]
  },
  {
   "cell_type": "markdown",
   "metadata": {},
   "source": [
    "***\n",
    "***"
   ]
  },
  {
   "cell_type": "markdown",
   "metadata": {},
   "source": [
    "## NLTK provides top 5\n",
    "* This allows the data to drive further work by looking solely at the top N words in the files processed.\n",
    "* By default the tokens are cleaned by removing `tokens` in the `nltk` library `stopwords` English list, as well as punctuation and non-alphanumeric `tokens` from the `string` methods.\n",
    "* `nltk` directed search allows the opportunity for supervised follow-up utilizing inference from `tokens` provided and additional user input to narrow in on \"hits\" in the dataset.\n",
    "* Since `most_common()` method provides all entries it can be indexed as a traditional list to look anywhere in the list if desired.\n",
    " * Alternately `most_common(n)` can be used where `n` is the number of words to search for if concerned about slowdown via processing too many tokens."
   ]
  },
  {
   "cell_type": "markdown",
   "metadata": {},
   "source": [
    "### create a frequencity distribution based off of the cleaned tokens"
   ]
  },
  {
   "cell_type": "code",
   "execution_count": 5,
   "metadata": {},
   "outputs": [],
   "source": [
    "fd = nltk.FreqDist(tokens_removed)"
   ]
  },
  {
   "cell_type": "markdown",
   "metadata": {},
   "source": [
    "### `most_common(n)` provides a list of `n` length with sublist `[word, count]`\n",
    "### create a dataframe utilizing the 5 most common words in the cleaned token list"
   ]
  },
  {
   "cell_type": "code",
   "execution_count": 6,
   "metadata": {},
   "outputs": [],
   "source": [
    "n = 10"
   ]
  },
  {
   "cell_type": "code",
   "execution_count": 7,
   "metadata": {},
   "outputs": [
    {
     "data": {
      "text/html": [
       "<div>\n",
       "<style scoped>\n",
       "    .dataframe tbody tr th:only-of-type {\n",
       "        vertical-align: middle;\n",
       "    }\n",
       "\n",
       "    .dataframe tbody tr th {\n",
       "        vertical-align: top;\n",
       "    }\n",
       "\n",
       "    .dataframe thead th {\n",
       "        text-align: right;\n",
       "    }\n",
       "</style>\n",
       "<table border=\"1\" class=\"dataframe\">\n",
       "  <thead>\n",
       "    <tr style=\"text-align: right;\">\n",
       "      <th></th>\n",
       "      <th>word</th>\n",
       "      <th>count</th>\n",
       "    </tr>\n",
       "  </thead>\n",
       "  <tbody>\n",
       "    <tr>\n",
       "      <th>0</th>\n",
       "      <td>text</td>\n",
       "      <td>255</td>\n",
       "    </tr>\n",
       "    <tr>\n",
       "      <th>1</th>\n",
       "      <td>data</td>\n",
       "      <td>238</td>\n",
       "    </tr>\n",
       "    <tr>\n",
       "      <th>2</th>\n",
       "      <td>mining</td>\n",
       "      <td>195</td>\n",
       "    </tr>\n",
       "    <tr>\n",
       "      <th>3</th>\n",
       "      <td>information</td>\n",
       "      <td>153</td>\n",
       "    </tr>\n",
       "    <tr>\n",
       "      <th>4</th>\n",
       "      <td>cases</td>\n",
       "      <td>150</td>\n",
       "    </tr>\n",
       "    <tr>\n",
       "      <th>5</th>\n",
       "      <td>articles</td>\n",
       "      <td>124</td>\n",
       "    </tr>\n",
       "    <tr>\n",
       "      <th>6</th>\n",
       "      <td>learning</td>\n",
       "      <td>111</td>\n",
       "    </tr>\n",
       "    <tr>\n",
       "      <th>7</th>\n",
       "      <td>results</td>\n",
       "      <td>111</td>\n",
       "    </tr>\n",
       "    <tr>\n",
       "      <th>8</th>\n",
       "      <td>case</td>\n",
       "      <td>110</td>\n",
       "    </tr>\n",
       "    <tr>\n",
       "      <th>9</th>\n",
       "      <td>used</td>\n",
       "      <td>108</td>\n",
       "    </tr>\n",
       "  </tbody>\n",
       "</table>\n",
       "</div>"
      ],
      "text/plain": [
       "          word  count\n",
       "0         text    255\n",
       "1         data    238\n",
       "2       mining    195\n",
       "3  information    153\n",
       "4        cases    150\n",
       "5     articles    124\n",
       "6     learning    111\n",
       "7      results    111\n",
       "8         case    110\n",
       "9         used    108"
      ]
     },
     "execution_count": 7,
     "metadata": {},
     "output_type": "execute_result"
    }
   ],
   "source": [
    "data = fd.most_common()\n",
    "df_fd = pd.DataFrame(data[:n], columns = [\"word\", \"count\"])\n",
    "df_fd"
   ]
  },
  {
   "cell_type": "markdown",
   "metadata": {},
   "source": [
    "### create a simple bar graph of top `n` words vs count"
   ]
  },
  {
   "cell_type": "code",
   "execution_count": 8,
   "metadata": {},
   "outputs": [
    {
     "data": {
      "text/plain": [
       "<AxesSubplot:xlabel='word'>"
      ]
     },
     "execution_count": 8,
     "metadata": {},
     "output_type": "execute_result"
    },
    {
     "data": {
      "image/png": "[encoded data removed]",
      "text/plain": [
       "<Figure size 432x288 with 1 Axes>"
      ]
     },
     "metadata": {
      "needs_background": "light"
     },
     "output_type": "display_data"
    }
   ],
   "source": [
    "df_fd.plot.bar(x='word', y='count')"
   ]
  },
  {
   "cell_type": "markdown",
   "metadata": {},
   "source": [
    "### Look at `tagged` and `entities` from the top N words"
   ]
  },
  {
   "cell_type": "code",
   "execution_count": 9,
   "metadata": {},
   "outputs": [],
   "source": [
    "target_words = sorted(fd, key = fd.get, reverse = True)[:n]"
   ]
  },
  {
   "cell_type": "markdown",
   "metadata": {},
   "source": [
    "## `pos_tag` codes: https://www.guru99.com/pos-tagging-chunking-nltk.html"
   ]
  },
  {
   "cell_type": "code",
   "execution_count": 12,
   "metadata": {},
   "outputs": [
    {
     "data": {
      "text/plain": [
       "[('text', 'NN'),\n",
       " ('data', 'NNS'),\n",
       " ('mining', 'NN'),\n",
       " ('information', 'NN'),\n",
       " ('cases', 'NNS'),\n",
       " ('articles', 'VBZ'),\n",
       " ('learning', 'VBG'),\n",
       " ('results', 'NNS'),\n",
       " ('case', 'NN'),\n",
       " ('used', 'VBN')]"
      ]
     },
     "execution_count": 12,
     "metadata": {},
     "output_type": "execute_result"
    }
   ],
   "source": [
    "tagged = nltk.pos_tag(target_words)\n",
    "tagged"
   ]
  },
  {
   "cell_type": "code",
   "execution_count": 17,
   "metadata": {},
   "outputs": [
    {
     "data": {
      "image/png": "[encoded data removed]",
      "text/plain": [
       "Tree('S', [('text', 'NN'), ('data', 'NNS'), ('mining', 'NN'), ('information', 'NN'), ('cases', 'NNS'), ('articles', 'VBZ'), ('learning', 'VBG'), ('results', 'NNS'), ('case', 'NN'), ('used', 'VBN')])"
      ]
     },
     "execution_count": 17,
     "metadata": {},
     "output_type": "execute_result"
    }
   ],
   "source": [
    "entities = nltk.chunk.ne_chunk(tagged)\n",
    "entities"
   ]
  },
  {
   "cell_type": "code",
   "execution_count": 18,
   "metadata": {},
   "outputs": [
    {
     "data": {
      "text/plain": [
       "(list,\n",
       " [('text', 'NN'),\n",
       "  ('data', 'NNS'),\n",
       "  ('mining', 'NN'),\n",
       "  ('information', 'NN'),\n",
       "  ('cases', 'NNS'),\n",
       "  ('articles', 'VBZ'),\n",
       "  ('learning', 'VBG'),\n",
       "  ('results', 'NNS'),\n",
       "  ('case', 'NN'),\n",
       "  ('used', 'VBN')],\n",
       " nltk.tree.Tree,\n",
       " Tree('S', [('text', 'NN'), ('data', 'NNS'), ('mining', 'NN'), ('information', 'NN'), ('cases', 'NNS'), ('articles', 'VBZ'), ('learning', 'VBG'), ('results', 'NNS'), ('case', 'NN'), ('used', 'VBN')]))"
      ]
     },
     "execution_count": 18,
     "metadata": {},
     "output_type": "execute_result"
    }
   ],
   "source": [
    "type(tagged), tagged, type(entities), entities"
   ]
  },
  {
   "cell_type": "markdown",
   "metadata": {},
   "source": [
    "***\n",
    "## TF-IDF tests\n",
    "https://towardsdatascience.com/natural-language-processing-feature-engineering-using-tf-idf-e8b9d00e7e76"
   ]
  },
  {
   "cell_type": "markdown",
   "metadata": {},
   "source": [
    "https://scikit-learn.org/stable/modules/generated/sklearn.feature_extraction.text.TfidfVectorizer.html\n",
    "Adapt example code to:\n",
    "* take unique tokens from each pdf being fed as input\n",
    "* store each token as a string in the corpus"
   ]
  },
  {
   "cell_type": "code",
   "execution_count": 19,
   "metadata": {},
   "outputs": [],
   "source": [
    "vectorizer = TfidfVectorizer()\n",
    "vectors = vectorizer.fit_transform(multi_corpus)\n",
    "feature_names = vectorizer.get_feature_names()\n",
    "dense = vectors.todense()\n",
    "denselist = dense.tolist()\n",
    "dfM = pd.DataFrame(denselist, columns=feature_names)"
   ]
  },
  {
   "cell_type": "markdown",
   "metadata": {},
   "source": [
    "### set properties will allow us to remove every column that is not a targeted word from the early NLTK selection\n"
   ]
  },
  {
   "cell_type": "code",
   "execution_count": 20,
   "metadata": {},
   "outputs": [
    {
     "data": {
      "text/html": [
       "<div>\n",
       "<style scoped>\n",
       "    .dataframe tbody tr th:only-of-type {\n",
       "        vertical-align: middle;\n",
       "    }\n",
       "\n",
       "    .dataframe tbody tr th {\n",
       "        vertical-align: top;\n",
       "    }\n",
       "\n",
       "    .dataframe thead th {\n",
       "        text-align: right;\n",
       "    }\n",
       "</style>\n",
       "<table border=\"1\" class=\"dataframe\">\n",
       "  <thead>\n",
       "    <tr style=\"text-align: right;\">\n",
       "      <th></th>\n",
       "      <th>articles</th>\n",
       "      <th>case</th>\n",
       "      <th>cases</th>\n",
       "      <th>data</th>\n",
       "      <th>information</th>\n",
       "      <th>learning</th>\n",
       "      <th>mining</th>\n",
       "      <th>results</th>\n",
       "      <th>text</th>\n",
       "      <th>used</th>\n",
       "    </tr>\n",
       "  </thead>\n",
       "  <tbody>\n",
       "    <tr>\n",
       "      <th>0</th>\n",
       "      <td>0.023118</td>\n",
       "      <td>0.082652</td>\n",
       "      <td>0.142561</td>\n",
       "      <td>0.047975</td>\n",
       "      <td>0.024673</td>\n",
       "      <td>0.036324</td>\n",
       "      <td>0.002431</td>\n",
       "      <td>0.029470</td>\n",
       "      <td>0.017827</td>\n",
       "      <td>0.035639</td>\n",
       "    </tr>\n",
       "    <tr>\n",
       "      <th>1</th>\n",
       "      <td>0.000000</td>\n",
       "      <td>0.007946</td>\n",
       "      <td>0.002361</td>\n",
       "      <td>0.055444</td>\n",
       "      <td>0.008401</td>\n",
       "      <td>0.001680</td>\n",
       "      <td>0.045688</td>\n",
       "      <td>0.016801</td>\n",
       "      <td>0.019864</td>\n",
       "      <td>0.018481</td>\n",
       "    </tr>\n",
       "    <tr>\n",
       "      <th>2</th>\n",
       "      <td>0.034813</td>\n",
       "      <td>0.005325</td>\n",
       "      <td>0.000000</td>\n",
       "      <td>0.103584</td>\n",
       "      <td>0.103584</td>\n",
       "      <td>0.002252</td>\n",
       "      <td>0.098508</td>\n",
       "      <td>0.011259</td>\n",
       "      <td>0.157080</td>\n",
       "      <td>0.011259</td>\n",
       "    </tr>\n",
       "    <tr>\n",
       "      <th>3</th>\n",
       "      <td>0.143512</td>\n",
       "      <td>0.005426</td>\n",
       "      <td>0.001612</td>\n",
       "      <td>0.092931</td>\n",
       "      <td>0.076869</td>\n",
       "      <td>0.061954</td>\n",
       "      <td>0.184481</td>\n",
       "      <td>0.030977</td>\n",
       "      <td>0.238740</td>\n",
       "      <td>0.033272</td>\n",
       "    </tr>\n",
       "    <tr>\n",
       "      <th>4</th>\n",
       "      <td>0.000000</td>\n",
       "      <td>0.000000</td>\n",
       "      <td>0.000000</td>\n",
       "      <td>0.027596</td>\n",
       "      <td>0.003942</td>\n",
       "      <td>0.017740</td>\n",
       "      <td>0.000000</td>\n",
       "      <td>0.051250</td>\n",
       "      <td>0.000000</td>\n",
       "      <td>0.023654</td>\n",
       "    </tr>\n",
       "  </tbody>\n",
       "</table>\n",
       "</div>"
      ],
      "text/plain": [
       "   articles      case     cases      data  information  learning    mining  \\\n",
       "0  0.023118  0.082652  0.142561  0.047975     0.024673  0.036324  0.002431   \n",
       "1  0.000000  0.007946  0.002361  0.055444     0.008401  0.001680  0.045688   \n",
       "2  0.034813  0.005325  0.000000  0.103584     0.103584  0.002252  0.098508   \n",
       "3  0.143512  0.005426  0.001612  0.092931     0.076869  0.061954  0.184481   \n",
       "4  0.000000  0.000000  0.000000  0.027596     0.003942  0.017740  0.000000   \n",
       "\n",
       "    results      text      used  \n",
       "0  0.029470  0.017827  0.035639  \n",
       "1  0.016801  0.019864  0.018481  \n",
       "2  0.011259  0.157080  0.011259  \n",
       "3  0.030977  0.238740  0.033272  \n",
       "4  0.051250  0.000000  0.023654  "
      ]
     },
     "execution_count": 20,
     "metadata": {},
     "output_type": "execute_result"
    }
   ],
   "source": [
    "dropped_columns = list(set(feature_names).difference(target_words))\n",
    "dfM.drop(columns = dropped_columns)"
   ]
  },
  {
   "cell_type": "markdown",
   "metadata": {},
   "source": [
    "### create dictionary of k:v pair index : pdf filename to rename pandas rows for readability"
   ]
  },
  {
   "cell_type": "code",
   "execution_count": 21,
   "metadata": {},
   "outputs": [
    {
     "name": "stdout",
     "output_type": "stream",
     "text": [
      "0 MedvedevaEtAl2019.pdf\n",
      "1 KDD97-003.pdf\n",
      "2 P99-1001.pdf\n",
      "3 10.1007978-3-319-67056-018.pdf\n",
      "4 dummy_test.pdf\n"
     ]
    }
   ],
   "source": [
    "names = {}\n",
    "for x in range(len(files)):\n",
    "    print(str(x)+' '+str(files[x])[9:])\n",
    "    names[x] = str(files[x])[9:]"
   ]
  },
  {
   "cell_type": "code",
   "execution_count": 22,
   "metadata": {},
   "outputs": [
    {
     "data": {
      "text/html": [
       "<div>\n",
       "<style scoped>\n",
       "    .dataframe tbody tr th:only-of-type {\n",
       "        vertical-align: middle;\n",
       "    }\n",
       "\n",
       "    .dataframe tbody tr th {\n",
       "        vertical-align: top;\n",
       "    }\n",
       "\n",
       "    .dataframe thead th {\n",
       "        text-align: right;\n",
       "    }\n",
       "</style>\n",
       "<table border=\"1\" class=\"dataframe\">\n",
       "  <thead>\n",
       "    <tr style=\"text-align: right;\">\n",
       "      <th></th>\n",
       "      <th>00</th>\n",
       "      <th>000</th>\n",
       "      <th>003</th>\n",
       "      <th>01</th>\n",
       "      <th>012</th>\n",
       "      <th>02</th>\n",
       "      <th>0250</th>\n",
       "      <th>03</th>\n",
       "      <th>05</th>\n",
       "      <th>050</th>\n",
       "      <th>...</th>\n",
       "      <th>ﬁles</th>\n",
       "      <th>ﬁll</th>\n",
       "      <th>ﬁltered</th>\n",
       "      <th>ﬁltering</th>\n",
       "      <th>ﬁnancial</th>\n",
       "      <th>ﬁnd</th>\n",
       "      <th>ﬁnding</th>\n",
       "      <th>ﬁndings</th>\n",
       "      <th>ﬁnds</th>\n",
       "      <th>ﬁrst</th>\n",
       "    </tr>\n",
       "  </thead>\n",
       "  <tbody>\n",
       "    <tr>\n",
       "      <th>MedvedevaEtAl2019.pdf</th>\n",
       "      <td>0.000000</td>\n",
       "      <td>0.000000</td>\n",
       "      <td>0.002877</td>\n",
       "      <td>0.001160</td>\n",
       "      <td>0.001438</td>\n",
       "      <td>0.000000</td>\n",
       "      <td>0.000000</td>\n",
       "      <td>0.000000</td>\n",
       "      <td>0.000000</td>\n",
       "      <td>0.001438</td>\n",
       "      <td>...</td>\n",
       "      <td>0.000000</td>\n",
       "      <td>0.000000</td>\n",
       "      <td>0.000000</td>\n",
       "      <td>0.000000</td>\n",
       "      <td>0.000000</td>\n",
       "      <td>0.000000</td>\n",
       "      <td>0.000000</td>\n",
       "      <td>0.000000</td>\n",
       "      <td>0.000000</td>\n",
       "      <td>0.000000</td>\n",
       "    </tr>\n",
       "    <tr>\n",
       "      <th>KDD97-003.pdf</th>\n",
       "      <td>0.000000</td>\n",
       "      <td>0.000000</td>\n",
       "      <td>0.000000</td>\n",
       "      <td>0.000000</td>\n",
       "      <td>0.000000</td>\n",
       "      <td>0.000000</td>\n",
       "      <td>0.000000</td>\n",
       "      <td>0.000000</td>\n",
       "      <td>0.000000</td>\n",
       "      <td>0.000000</td>\n",
       "      <td>...</td>\n",
       "      <td>0.000000</td>\n",
       "      <td>0.000000</td>\n",
       "      <td>0.000000</td>\n",
       "      <td>0.000000</td>\n",
       "      <td>0.000000</td>\n",
       "      <td>0.000000</td>\n",
       "      <td>0.000000</td>\n",
       "      <td>0.000000</td>\n",
       "      <td>0.000000</td>\n",
       "      <td>0.000000</td>\n",
       "    </tr>\n",
       "    <tr>\n",
       "      <th>P99-1001.pdf</th>\n",
       "      <td>0.000000</td>\n",
       "      <td>0.011438</td>\n",
       "      <td>0.000000</td>\n",
       "      <td>0.000000</td>\n",
       "      <td>0.000000</td>\n",
       "      <td>0.000000</td>\n",
       "      <td>0.000000</td>\n",
       "      <td>0.000000</td>\n",
       "      <td>0.000000</td>\n",
       "      <td>0.000000</td>\n",
       "      <td>...</td>\n",
       "      <td>0.000000</td>\n",
       "      <td>0.000000</td>\n",
       "      <td>0.000000</td>\n",
       "      <td>0.000000</td>\n",
       "      <td>0.000000</td>\n",
       "      <td>0.000000</td>\n",
       "      <td>0.000000</td>\n",
       "      <td>0.000000</td>\n",
       "      <td>0.000000</td>\n",
       "      <td>0.000000</td>\n",
       "    </tr>\n",
       "    <tr>\n",
       "      <th>10.1007978-3-319-67056-018.pdf</th>\n",
       "      <td>0.000000</td>\n",
       "      <td>0.001943</td>\n",
       "      <td>0.000000</td>\n",
       "      <td>0.000000</td>\n",
       "      <td>0.000000</td>\n",
       "      <td>0.000000</td>\n",
       "      <td>0.000000</td>\n",
       "      <td>0.000000</td>\n",
       "      <td>0.000000</td>\n",
       "      <td>0.000000</td>\n",
       "      <td>...</td>\n",
       "      <td>0.004815</td>\n",
       "      <td>0.002408</td>\n",
       "      <td>0.004815</td>\n",
       "      <td>0.004815</td>\n",
       "      <td>0.002408</td>\n",
       "      <td>0.012039</td>\n",
       "      <td>0.014446</td>\n",
       "      <td>0.007223</td>\n",
       "      <td>0.002408</td>\n",
       "      <td>0.007223</td>\n",
       "    </tr>\n",
       "    <tr>\n",
       "      <th>dummy_test.pdf</th>\n",
       "      <td>0.004137</td>\n",
       "      <td>0.000000</td>\n",
       "      <td>0.000000</td>\n",
       "      <td>0.010012</td>\n",
       "      <td>0.000000</td>\n",
       "      <td>0.004137</td>\n",
       "      <td>0.004137</td>\n",
       "      <td>0.004137</td>\n",
       "      <td>0.004137</td>\n",
       "      <td>0.000000</td>\n",
       "      <td>...</td>\n",
       "      <td>0.000000</td>\n",
       "      <td>0.000000</td>\n",
       "      <td>0.000000</td>\n",
       "      <td>0.000000</td>\n",
       "      <td>0.000000</td>\n",
       "      <td>0.000000</td>\n",
       "      <td>0.000000</td>\n",
       "      <td>0.000000</td>\n",
       "      <td>0.000000</td>\n",
       "      <td>0.000000</td>\n",
       "    </tr>\n",
       "  </tbody>\n",
       "</table>\n",
       "<p>5 rows × 5361 columns</p>\n",
       "</div>"
      ],
      "text/plain": [
       "                                      00       000       003        01  \\\n",
       "MedvedevaEtAl2019.pdf           0.000000  0.000000  0.002877  0.001160   \n",
       "KDD97-003.pdf                   0.000000  0.000000  0.000000  0.000000   \n",
       "P99-1001.pdf                    0.000000  0.011438  0.000000  0.000000   \n",
       "10.1007978-3-319-67056-018.pdf  0.000000  0.001943  0.000000  0.000000   \n",
       "dummy_test.pdf                  0.004137  0.000000  0.000000  0.010012   \n",
       "\n",
       "                                     012        02      0250        03  \\\n",
       "MedvedevaEtAl2019.pdf           0.001438  0.000000  0.000000  0.000000   \n",
       "KDD97-003.pdf                   0.000000  0.000000  0.000000  0.000000   \n",
       "P99-1001.pdf                    0.000000  0.000000  0.000000  0.000000   \n",
       "10.1007978-3-319-67056-018.pdf  0.000000  0.000000  0.000000  0.000000   \n",
       "dummy_test.pdf                  0.000000  0.004137  0.004137  0.004137   \n",
       "\n",
       "                                      05       050  ...      ﬁles       ﬁll  \\\n",
       "MedvedevaEtAl2019.pdf           0.000000  0.001438  ...  0.000000  0.000000   \n",
       "KDD97-003.pdf                   0.000000  0.000000  ...  0.000000  0.000000   \n",
       "P99-1001.pdf                    0.000000  0.000000  ...  0.000000  0.000000   \n",
       "10.1007978-3-319-67056-018.pdf  0.000000  0.000000  ...  0.004815  0.002408   \n",
       "dummy_test.pdf                  0.004137  0.000000  ...  0.000000  0.000000   \n",
       "\n",
       "                                 ﬁltered  ﬁltering  ﬁnancial       ﬁnd  \\\n",
       "MedvedevaEtAl2019.pdf           0.000000  0.000000  0.000000  0.000000   \n",
       "KDD97-003.pdf                   0.000000  0.000000  0.000000  0.000000   \n",
       "P99-1001.pdf                    0.000000  0.000000  0.000000  0.000000   \n",
       "10.1007978-3-319-67056-018.pdf  0.004815  0.004815  0.002408  0.012039   \n",
       "dummy_test.pdf                  0.000000  0.000000  0.000000  0.000000   \n",
       "\n",
       "                                  ﬁnding   ﬁndings      ﬁnds      ﬁrst  \n",
       "MedvedevaEtAl2019.pdf           0.000000  0.000000  0.000000  0.000000  \n",
       "KDD97-003.pdf                   0.000000  0.000000  0.000000  0.000000  \n",
       "P99-1001.pdf                    0.000000  0.000000  0.000000  0.000000  \n",
       "10.1007978-3-319-67056-018.pdf  0.014446  0.007223  0.002408  0.007223  \n",
       "dummy_test.pdf                  0.000000  0.000000  0.000000  0.000000  \n",
       "\n",
       "[5 rows x 5361 columns]"
      ]
     },
     "execution_count": 22,
     "metadata": {},
     "output_type": "execute_result"
    }
   ],
   "source": [
    "dfM.rename(index=names, inplace = True)\n",
    "dfM"
   ]
  },
  {
   "cell_type": "code",
   "execution_count": 23,
   "metadata": {
    "scrolled": true
   },
   "outputs": [
    {
     "data": {
      "text/html": [
       "<div>\n",
       "<style scoped>\n",
       "    .dataframe tbody tr th:only-of-type {\n",
       "        vertical-align: middle;\n",
       "    }\n",
       "\n",
       "    .dataframe tbody tr th {\n",
       "        vertical-align: top;\n",
       "    }\n",
       "\n",
       "    .dataframe thead th {\n",
       "        text-align: right;\n",
       "    }\n",
       "</style>\n",
       "<table border=\"1\" class=\"dataframe\">\n",
       "  <thead>\n",
       "    <tr style=\"text-align: right;\">\n",
       "      <th></th>\n",
       "      <th>articles</th>\n",
       "      <th>case</th>\n",
       "      <th>cases</th>\n",
       "      <th>data</th>\n",
       "      <th>information</th>\n",
       "      <th>learning</th>\n",
       "      <th>mining</th>\n",
       "      <th>results</th>\n",
       "      <th>text</th>\n",
       "      <th>used</th>\n",
       "    </tr>\n",
       "  </thead>\n",
       "  <tbody>\n",
       "    <tr>\n",
       "      <th>MedvedevaEtAl2019.pdf</th>\n",
       "      <td>0.023118</td>\n",
       "      <td>0.082652</td>\n",
       "      <td>0.142561</td>\n",
       "      <td>0.047975</td>\n",
       "      <td>0.024673</td>\n",
       "      <td>0.036324</td>\n",
       "      <td>0.002431</td>\n",
       "      <td>0.029470</td>\n",
       "      <td>0.017827</td>\n",
       "      <td>0.035639</td>\n",
       "    </tr>\n",
       "    <tr>\n",
       "      <th>KDD97-003.pdf</th>\n",
       "      <td>0.000000</td>\n",
       "      <td>0.007946</td>\n",
       "      <td>0.002361</td>\n",
       "      <td>0.055444</td>\n",
       "      <td>0.008401</td>\n",
       "      <td>0.001680</td>\n",
       "      <td>0.045688</td>\n",
       "      <td>0.016801</td>\n",
       "      <td>0.019864</td>\n",
       "      <td>0.018481</td>\n",
       "    </tr>\n",
       "    <tr>\n",
       "      <th>P99-1001.pdf</th>\n",
       "      <td>0.034813</td>\n",
       "      <td>0.005325</td>\n",
       "      <td>0.000000</td>\n",
       "      <td>0.103584</td>\n",
       "      <td>0.103584</td>\n",
       "      <td>0.002252</td>\n",
       "      <td>0.098508</td>\n",
       "      <td>0.011259</td>\n",
       "      <td>0.157080</td>\n",
       "      <td>0.011259</td>\n",
       "    </tr>\n",
       "    <tr>\n",
       "      <th>10.1007978-3-319-67056-018.pdf</th>\n",
       "      <td>0.143512</td>\n",
       "      <td>0.005426</td>\n",
       "      <td>0.001612</td>\n",
       "      <td>0.092931</td>\n",
       "      <td>0.076869</td>\n",
       "      <td>0.061954</td>\n",
       "      <td>0.184481</td>\n",
       "      <td>0.030977</td>\n",
       "      <td>0.238740</td>\n",
       "      <td>0.033272</td>\n",
       "    </tr>\n",
       "    <tr>\n",
       "      <th>dummy_test.pdf</th>\n",
       "      <td>0.000000</td>\n",
       "      <td>0.000000</td>\n",
       "      <td>0.000000</td>\n",
       "      <td>0.027596</td>\n",
       "      <td>0.003942</td>\n",
       "      <td>0.017740</td>\n",
       "      <td>0.000000</td>\n",
       "      <td>0.051250</td>\n",
       "      <td>0.000000</td>\n",
       "      <td>0.023654</td>\n",
       "    </tr>\n",
       "  </tbody>\n",
       "</table>\n",
       "</div>"
      ],
      "text/plain": [
       "                                articles      case     cases      data  \\\n",
       "MedvedevaEtAl2019.pdf           0.023118  0.082652  0.142561  0.047975   \n",
       "KDD97-003.pdf                   0.000000  0.007946  0.002361  0.055444   \n",
       "P99-1001.pdf                    0.034813  0.005325  0.000000  0.103584   \n",
       "10.1007978-3-319-67056-018.pdf  0.143512  0.005426  0.001612  0.092931   \n",
       "dummy_test.pdf                  0.000000  0.000000  0.000000  0.027596   \n",
       "\n",
       "                                information  learning    mining   results  \\\n",
       "MedvedevaEtAl2019.pdf              0.024673  0.036324  0.002431  0.029470   \n",
       "KDD97-003.pdf                      0.008401  0.001680  0.045688  0.016801   \n",
       "P99-1001.pdf                       0.103584  0.002252  0.098508  0.011259   \n",
       "10.1007978-3-319-67056-018.pdf     0.076869  0.061954  0.184481  0.030977   \n",
       "dummy_test.pdf                     0.003942  0.017740  0.000000  0.051250   \n",
       "\n",
       "                                    text      used  \n",
       "MedvedevaEtAl2019.pdf           0.017827  0.035639  \n",
       "KDD97-003.pdf                   0.019864  0.018481  \n",
       "P99-1001.pdf                    0.157080  0.011259  \n",
       "10.1007978-3-319-67056-018.pdf  0.238740  0.033272  \n",
       "dummy_test.pdf                  0.000000  0.023654  "
      ]
     },
     "execution_count": 23,
     "metadata": {},
     "output_type": "execute_result"
    }
   ],
   "source": [
    "dfM.drop(columns = dropped_columns)"
   ]
  },
  {
   "cell_type": "code",
   "execution_count": 24,
   "metadata": {},
   "outputs": [],
   "source": [
    "dfSummary = pd.DataFrame({'word': [], 'max TF-IDF value' : [], 'file' : []})"
   ]
  },
  {
   "cell_type": "code",
   "execution_count": 25,
   "metadata": {},
   "outputs": [],
   "source": [
    "for word in target_words:\n",
    "    dfSummary = dfSummary.append({'word': word, 'max TF-IDF value' : dfM[word].max(), 'file' : dfM[word].idxmax()}, ignore_index = True)"
   ]
  },
  {
   "cell_type": "code",
   "execution_count": 21,
   "metadata": {},
   "outputs": [
    {
     "data": {
      "text/html": [
       "<div>\n",
       "<style scoped>\n",
       "    .dataframe tbody tr th:only-of-type {\n",
       "        vertical-align: middle;\n",
       "    }\n",
       "\n",
       "    .dataframe tbody tr th {\n",
       "        vertical-align: top;\n",
       "    }\n",
       "\n",
       "    .dataframe thead th {\n",
       "        text-align: right;\n",
       "    }\n",
       "</style>\n",
       "<table border=\"1\" class=\"dataframe\">\n",
       "  <thead>\n",
       "    <tr style=\"text-align: right;\">\n",
       "      <th></th>\n",
       "      <th>word</th>\n",
       "      <th>max TF-IDF value</th>\n",
       "      <th>file</th>\n",
       "    </tr>\n",
       "  </thead>\n",
       "  <tbody>\n",
       "    <tr>\n",
       "      <th>0</th>\n",
       "      <td>text</td>\n",
       "      <td>0.238740</td>\n",
       "      <td>10.1007978-3-319-67056-018.pdf</td>\n",
       "    </tr>\n",
       "    <tr>\n",
       "      <th>2</th>\n",
       "      <td>mining</td>\n",
       "      <td>0.184481</td>\n",
       "      <td>10.1007978-3-319-67056-018.pdf</td>\n",
       "    </tr>\n",
       "    <tr>\n",
       "      <th>5</th>\n",
       "      <td>articles</td>\n",
       "      <td>0.143512</td>\n",
       "      <td>10.1007978-3-319-67056-018.pdf</td>\n",
       "    </tr>\n",
       "    <tr>\n",
       "      <th>4</th>\n",
       "      <td>cases</td>\n",
       "      <td>0.142561</td>\n",
       "      <td>MedvedevaEtAl2019.pdf</td>\n",
       "    </tr>\n",
       "    <tr>\n",
       "      <th>1</th>\n",
       "      <td>data</td>\n",
       "      <td>0.103584</td>\n",
       "      <td>P99-1001.pdf</td>\n",
       "    </tr>\n",
       "    <tr>\n",
       "      <th>3</th>\n",
       "      <td>information</td>\n",
       "      <td>0.103584</td>\n",
       "      <td>P99-1001.pdf</td>\n",
       "    </tr>\n",
       "    <tr>\n",
       "      <th>8</th>\n",
       "      <td>case</td>\n",
       "      <td>0.082652</td>\n",
       "      <td>MedvedevaEtAl2019.pdf</td>\n",
       "    </tr>\n",
       "    <tr>\n",
       "      <th>6</th>\n",
       "      <td>learning</td>\n",
       "      <td>0.061954</td>\n",
       "      <td>10.1007978-3-319-67056-018.pdf</td>\n",
       "    </tr>\n",
       "    <tr>\n",
       "      <th>7</th>\n",
       "      <td>results</td>\n",
       "      <td>0.051250</td>\n",
       "      <td>dummy_test.pdf</td>\n",
       "    </tr>\n",
       "    <tr>\n",
       "      <th>9</th>\n",
       "      <td>used</td>\n",
       "      <td>0.035639</td>\n",
       "      <td>MedvedevaEtAl2019.pdf</td>\n",
       "    </tr>\n",
       "  </tbody>\n",
       "</table>\n",
       "</div>"
      ],
      "text/plain": [
       "          word  max TF-IDF value                            file\n",
       "0         text          0.238740  10.1007978-3-319-67056-018.pdf\n",
       "2       mining          0.184481  10.1007978-3-319-67056-018.pdf\n",
       "5     articles          0.143512  10.1007978-3-319-67056-018.pdf\n",
       "4        cases          0.142561           MedvedevaEtAl2019.pdf\n",
       "1         data          0.103584                    P99-1001.pdf\n",
       "3  information          0.103584                    P99-1001.pdf\n",
       "8         case          0.082652           MedvedevaEtAl2019.pdf\n",
       "6     learning          0.061954  10.1007978-3-319-67056-018.pdf\n",
       "7      results          0.051250                  dummy_test.pdf\n",
       "9         used          0.035639           MedvedevaEtAl2019.pdf"
      ]
     },
     "execution_count": 21,
     "metadata": {},
     "output_type": "execute_result"
    }
   ],
   "source": [
    "dfSummary.sort_values(by = 'max TF-IDF value', ascending = False)"
   ]
  },
  {
   "cell_type": "markdown",
   "metadata": {},
   "source": [
    "***\n",
    "***\n",
    "# TO-DO\n",
    "### immediate\n",
    "* clustering method\n",
    "\n",
    "### long-term\n",
    "* Look into API for digital commons\n",
    "  * uni clusters\n",
    "* Adjust visualizations\n",
    "***\n",
    "***"
   ]
  },
  {
   "cell_type": "markdown",
   "metadata": {},
   "source": [
    "## KMeans"
   ]
  },
  {
   "cell_type": "code",
   "execution_count": 26,
   "metadata": {},
   "outputs": [],
   "source": [
    "from sklearn.cluster import KMeans"
   ]
  },
  {
   "cell_type": "markdown",
   "metadata": {},
   "source": [
    "* https://scikit-learn.org/stable/auto_examples/cluster/plot_kmeans_assumptions.html#sphx-glr-auto-examples-cluster-plot-kmeans-assumptions-py\n",
    "* https://iq.opengenus.org/implement-document-clustering-python/"
   ]
  },
  {
   "cell_type": "code",
   "execution_count": 27,
   "metadata": {},
   "outputs": [
    {
     "name": "stdout",
     "output_type": "stream",
     "text": [
      "[[0.         0.01143798 0.         ... 0.         0.         0.        ]\n",
      " [0.00413669 0.         0.         ... 0.         0.         0.        ]\n",
      " [0.         0.         0.0028766  ... 0.         0.         0.        ]\n",
      " [0.         0.         0.         ... 0.         0.         0.        ]\n",
      " [0.         0.00194255 0.         ... 0.00722322 0.00240774 0.00722322]]\n"
     ]
    }
   ],
   "source": [
    "num = len(multi_pdf) # set clusters to number of documents being scrubbed?\n",
    "kmeans = KMeans(n_clusters = num, init = 'k-means++', max_iter = 500, n_init = 1)\n",
    "kmeans.fit(vectors)\n",
    "centroids = kmeans.cluster_centers_\n",
    "print(centroids) #This will print cluster centroids as tf-idf vectors"
   ]
  },
  {
   "cell_type": "code",
   "execution_count": 28,
   "metadata": {},
   "outputs": [
    {
     "data": {
      "text/plain": [
       "array([2, 3, 0, 4, 1], dtype=int32)"
      ]
     },
     "execution_count": 28,
     "metadata": {},
     "output_type": "execute_result"
    }
   ],
   "source": [
    "kmeans.predict(vectors)"
   ]
  },
  {
   "cell_type": "markdown",
   "metadata": {},
   "source": [
    "* Predict the cluster for `search_text`\n",
    "* access `dfM` dataframe utilizing prediction to determine pdf file where target text is likely to be"
   ]
  },
  {
   "cell_type": "code",
   "execution_count": 34,
   "metadata": {},
   "outputs": [
    {
     "data": {
      "text/plain": [
       "'P99-1001.pdf'"
      ]
     },
     "execution_count": 34,
     "metadata": {},
     "output_type": "execute_result"
    }
   ],
   "source": [
    "search_text = \"how to run on the water\"\n",
    "predicted = kmeans.predict(vectorizer.transform([search_text]))\n",
    "dfM.loc[ names[ predicted[0] ] ].name"
   ]
  },
  {
   "cell_type": "markdown",
   "metadata": {},
   "source": [
    "## ideas\n",
    "if you're doing analysis of scientific documents, could the corpus discuss a specific thing in a specific section\n",
    "* assuming a standardized document format look for the expected headings and look at a subcorpus\n",
    "structure of pdf itself\n",
    "* headings, subheadings\n",
    "* scanned/image issues"
   ]
  },
  {
   "cell_type": "code",
   "execution_count": null,
   "metadata": {},
   "outputs": [],
   "source": []
  }
 ],
 "metadata": {
  "kernelspec": {
   "display_name": "Python 3",
   "language": "python",
   "name": "python3"
  },
  "language_info": {
   "codemirror_mode": {
    "name": "ipython",
    "version": 3
   },
   "file_extension": ".py",
   "mimetype": "text/x-python",
   "name": "python",
   "nbconvert_exporter": "python",
   "pygments_lexer": "ipython3",
   "version": "3.8.5"
  }
 },
 "nbformat": 4,
 "nbformat_minor": 4
}
